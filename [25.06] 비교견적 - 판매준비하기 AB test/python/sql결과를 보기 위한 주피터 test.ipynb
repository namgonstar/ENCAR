{
 "cells": [
  {
   "cell_type": "code",
   "execution_count": null,
   "id": "527426f7",
   "metadata": {},
   "outputs": [
    {
     "ename": "SyntaxError",
     "evalue": "unterminated string literal (detected at line 24) (2325401965.py, line 24)",
     "output_type": "error",
     "traceback": [
      "  \u001b[36mCell\u001b[39m\u001b[36m \u001b[39m\u001b[32mIn[1]\u001b[39m\u001b[32m, line 24\u001b[39m\n\u001b[31m    \u001b[39m\u001b[31mquery = \"-- AB test 결과 분석 쿼리 (platform 에 따라 서로다른 컬럼에 들어오는 것을 통합하여 처리 하는 쿼리)\u001b[39m\n            ^\n\u001b[31mSyntaxError\u001b[39m\u001b[31m:\u001b[39m unterminated string literal (detected at line 24)\n"
     ]
    }
   ],
   "source": [
    "import snowflake.connector\n",
    "import pandas as pd\n",
    "\n",
    "# 연결 설정\n",
    "conn = snowflake.connector.connect(\n",
    "    user='namgonlee_svc',\n",
    "    account='MAESGVY-TY96489',\n",
    "    private_key_file='/Users/encr25n10048/Documents/namgonlee_svc_key.p8'\n",
    "    # warehouse='YOUR_WAREHOUSE',\n",
    "    # database='YOUR_DATABASE',\n",
    "    # schema='YOUR_SCHEMA'\n",
    ")\n",
    "\n",
    "# 내 정보 \n",
    "# [MAESGVY-TY96489]\n",
    "# account = \"MAESGVY-TY96489\"\n",
    "# user = \"namgonlee_svc\"\n",
    "# authenticator = \"SNOWFLAKE_JWT\"\n",
    "# private_key_path = \"/Users/encr25n10048/Documents/namgonlee_svc_key.p8\"\n",
    "\n",
    "\n",
    "\n",
    "# SQL 실행 및 결과 불러오기\n",
    "query = \"SELECT * FROM your_table LIMIT 10\"\n",
    "df = pd.read_sql(query, conn)\n",
    "\n",
    "# 결과 확인\n",
    "df.head()"
   ]
  }
 ],
 "metadata": {
  "kernelspec": {
   "display_name": "Python 3",
   "language": "python",
   "name": "python3"
  },
  "language_info": {
   "codemirror_mode": {
    "name": "ipython",
    "version": 3
   },
   "file_extension": ".py",
   "mimetype": "text/x-python",
   "name": "python",
   "nbconvert_exporter": "python",
   "pygments_lexer": "ipython3",
   "version": "3.13.5"
  }
 },
 "nbformat": 4,
 "nbformat_minor": 5
}
