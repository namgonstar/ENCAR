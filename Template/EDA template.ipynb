{
 "cells": [
  {
   "cell_type": "markdown",
   "id": "681fdc50",
   "metadata": {},
   "source": [
    "# EDA template\n",
    "\n",
    "1. 주요 라이브러리 import\n",
    "2. snowflake 연결"
   ]
  },
  {
   "cell_type": "code",
   "execution_count": null,
   "id": "642b51ba",
   "metadata": {},
   "outputs": [],
   "source": [
    "# ✅ ipynb template !!!✅\n",
    "import pandas as pd\n",
    "import numpy as np\n",
    "import matplotlib.pyplot as plt\n",
    "import seaborn as sns\n",
    "from scipy.stats import chi2_contingency, beta\n",
    "from statsmodels.stats.proportion import proportions_ztest\n",
    "from statsmodels.stats.multitest import multipletests\n",
    "from IPython.display import display, Markdown\n",
    "\n",
    "# pandas 출력 설정\n",
    "pd.set_option('display.max_columns', None)      # 모든 열을 출력\n",
    "pd.set_option('display.width', 2000)            # 한 줄에 최대 출력 길이 설정 (충분히 크게)\n",
    "pd.set_option('display.max_colwidth', None)     # 각 열의 최대 출력 길이 제한 해제\n",
    "\n",
    "# ✅ 전체 float 출력 포맷 소수점 4자리로 고정 (현재 세션에만 적용. python 다시 시작하면 다시 설정해줘야 함.)\n",
    "pd.set_option('display.float_format', '{:.4f}'.format)\n",
    "\n",
    "# ❄️ snowflake 설정 1\n",
    "from sqlalchemy import create_engine\n",
    "user = 'namgonlee_svc'\n",
    "account = 'MAESGVY-TY96489'\n",
    "private_key_file = '/Users/encr25n10048/Documents/namgonlee_svc_key.p8'\n",
    "warehouse = 'USER_XSMALL'       # 필요 시 수정\n",
    "# database = 'ENCAR'            # 필요 시 수정\n",
    "# schema = 'LOGS_MART'          # 필요 시 수정\n",
    "# role = 'USER_XSMALL'          # 필요 시 수정\n",
    "\n",
    "# ❄️ snowflake 설정 2\n",
    "# 🔐 private key 로드 및 변환\n",
    "from cryptography.hazmat.primitives import serialization\n",
    "with open(private_key_file, \"rb\") as key_file:\n",
    "    p_key = serialization.load_pem_private_key(\n",
    "        key_file.read(),\n",
    "        password=None,\n",
    "    )\n",
    "pkb = p_key.private_bytes(\n",
    "    encoding=serialization.Encoding.DER,\n",
    "    format=serialization.PrivateFormat.PKCS8,\n",
    "    encryption_algorithm=serialization.NoEncryption()\n",
    ")\n",
    "\n",
    "# ❄️ snowflake 설정 3\n",
    "# SQLAlchemy 엔진 생성\n",
    "engine = create_engine(\n",
    "    f'snowflake://{user}@{account}?warehouse={warehouse}&',\n",
    "    connect_args={\n",
    "        'private_key': pkb,\n",
    "    }\n",
    ")\n",
    "\n",
    "# dataframe output 에 대해 정상 복사 (열 분리)\n",
    "# df.to_clipboard(index=False, sep='\\t')"
   ]
  },
  {
   "cell_type": "code",
   "execution_count": null,
   "id": "18acc960",
   "metadata": {},
   "outputs": [],
   "source": [
    "# sql 문 안에 변수처리하면 작동하지 않기 때문에 아래와 python 에서 변수처리 한 뒤 sql에는 파이썬 변수를 넣어야 한다.\n",
    "# 변수list\n",
    "# 변수 사용시 -> '{변수명}'\n",
    "abtestId = 'ab_6821560d42161e1e5fb42456'\n",
    "start_date = '2025-05-13'\n",
    "end_date = '2025-06-23'                          \n",
    "\n",
    "# SQL 실행 및 결과 불러오기\n",
    "query = f'''\n",
    "\n",
    "'''\n",
    "df = pd.read_sql(query, engine)\n",
    "\n",
    "# 결과 확인\n",
    "df"
   ]
  }
 ],
 "metadata": {
  "kernelspec": {
   "display_name": "Python 3",
   "language": "python",
   "name": "python3"
  },
  "language_info": {
   "codemirror_mode": {
    "name": "ipython",
    "version": 3
   },
   "file_extension": ".py",
   "mimetype": "text/x-python",
   "name": "python",
   "nbconvert_exporter": "python",
   "pygments_lexer": "ipython3",
   "version": "3.13.5"
  }
 },
 "nbformat": 4,
 "nbformat_minor": 5
}
