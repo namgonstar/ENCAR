{
 "cells": [
  {
   "cell_type": "code",
   "execution_count": 1,
   "id": "c1e01024",
   "metadata": {},
   "outputs": [
    {
     "name": "stdout",
     "output_type": "stream",
     "text": [
      "필요 샘플 수: 8143 per group\n"
     ]
    }
   ],
   "source": [
    "from statsmodels.stats.power import NormalIndPower\n",
    "from statsmodels.stats.proportion import proportion_effectsize\n",
    "\n",
    "# 예시: 전환율 baseline 5%, 기대 uplift 1% -> 효과 크기 계산\n",
    "effect_size = proportion_effectsize(0.05, 0.06)\n",
    "\n",
    "# 파워 분석기\n",
    "analysis = NormalIndPower()\n",
    "required_n = analysis.solve_power(effect_size=effect_size, power=0.8, alpha=0.05, ratio=1)\n",
    "print(f\"필요 샘플 수: {required_n:.0f} per group\")\n"
   ]
  },
  {
   "cell_type": "code",
   "execution_count": null,
   "id": "474f6ebe",
   "metadata": {},
   "outputs": [],
   "source": []
  }
 ],
 "metadata": {
  "kernelspec": {
   "display_name": "Python 3",
   "language": "python",
   "name": "python3"
  },
  "language_info": {
   "codemirror_mode": {
    "name": "ipython",
    "version": 3
   },
   "file_extension": ".py",
   "mimetype": "text/x-python",
   "name": "python",
   "nbconvert_exporter": "python",
   "pygments_lexer": "ipython3",
   "version": "3.11.9"
  }
 },
 "nbformat": 4,
 "nbformat_minor": 5
}
